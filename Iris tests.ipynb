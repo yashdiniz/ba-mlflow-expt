{
 "cells": [
  {
   "cell_type": "code",
   "execution_count": 3,
   "metadata": {},
   "outputs": [],
   "source": [
    "from sklearn import datasets\n",
    "from sklearn.linear_model import LogisticRegression\n",
    "from sklearn.model_selection import train_test_split\n",
    "\n",
    "import mlflow\n",
    "from mlflow.models import infer_signature"
   ]
  },
  {
   "cell_type": "code",
   "execution_count": 4,
   "metadata": {},
   "outputs": [],
   "source": [
    "# Load the Iris dataset\n",
    "X, y = datasets.load_iris(return_X_y=True)\n",
    "\n",
    "# Split the data into training and test sets\n",
    "X_train, X_test, y_train, y_test = train_test_split(X, y, test_size=0.2, random_state=42)\n",
    "\n",
    "# Define the model hyperparameters\n",
    "params = {\"solver\": \"lbfgs\", \"max_iter\": 1000, \"multi_class\": \"auto\", \"random_state\": 42}"
   ]
  },
  {
   "cell_type": "code",
   "execution_count": 5,
   "metadata": {},
   "outputs": [
    {
     "name": "stderr",
     "output_type": "stream",
     "text": [
      "2025/03/14 13:05:51 INFO mlflow.tracking.fluent: Autologging successfully enabled for sklearn.\n",
      "c:\\Users\\yash.diniz\\miniconda3\\envs\\mlflow\\Lib\\site-packages\\sklearn\\linear_model\\_logistic.py:1247: FutureWarning: 'multi_class' was deprecated in version 1.5 and will be removed in 1.7. From then on, it will always use 'multinomial'. Leave it to its default value to avoid this warning.\n",
      "  warnings.warn(\n",
      "Registered model 'dev.lr-iris.ml' already exists. Creating a new version of this model...\n",
      "2025/03/14 13:06:11 INFO mlflow.store.model_registry.abstract_store: Waiting up to 300 seconds for model version to finish creation. Model name: dev.lr-iris.ml, version 3\n"
     ]
    },
    {
     "name": "stdout",
     "output_type": "stream",
     "text": [
      "🏃 View run rogue-elk-175 at: http://127.0.0.1:5000/#/experiments/135005755538012888/runs/02ad479cca484e15a3612480733b0980\n",
      "🧪 View experiment at: http://127.0.0.1:5000/#/experiments/135005755538012888\n"
     ]
    },
    {
     "name": "stderr",
     "output_type": "stream",
     "text": [
      "Created version '3' of model 'dev.lr-iris.ml'.\n"
     ]
    }
   ],
   "source": [
    "mlflow.set_tracking_uri(uri=\"http://127.0.0.1:5000\")\n",
    "mlflow.set_experiment(\"MLflow Quickstart\")\n",
    "mlflow.autolog()\n",
    "\n",
    "# Start an MLflow run\n",
    "with mlflow.start_run():\n",
    "    # Train the model\n",
    "    lr = LogisticRegression(**params)\n",
    "    lr.fit(X_train, y_train)\n",
    "\n",
    "    # Predict on the test set\n",
    "    y_pred = lr.predict(X_test)\n",
    "\n",
    "    # (AUTOLOGGING) Log the hyperparameters\n",
    "    # mlflow.log_params(params)\n",
    "\n",
    "    # (AUTOLOGGING) Calculate accuracy as a target loss metric\n",
    "    # accuracy = accuracy_score(y_test, y_pred)\n",
    "    # mlflow.log_metric(\"accuracy\", accuracy)\n",
    "\n",
    "    # Set a tag that we can use to remind ourselves what this run was for\n",
    "    mlflow.set_tag(\"Training Info\", \"Basic LR model for iris data\")\n",
    "\n",
    "    # Infer the model signature\n",
    "    signature = infer_signature(X_train, lr.predict(X_train))\n",
    "\n",
    "    # Log the model\n",
    "    model_info = mlflow.sklearn.log_model(\n",
    "        sk_model=lr,\n",
    "        artifact_path=\"iris_model\",\n",
    "        signature=signature,\n",
    "        input_example=X_train,\n",
    "        registered_model_name=\"dev.lr-iris.ml\",\n",
    "    )"
   ]
  },
  {
   "cell_type": "code",
   "execution_count": 6,
   "metadata": {},
   "outputs": [
    {
     "name": "stdout",
     "output_type": "stream",
     "text": [
      "[6.1 2.8 4.7 1.2] 1 True\n",
      "[5.7 3.8 1.7 0.3] 0 True\n",
      "[7.7 2.6 6.9 2.3] 2 True\n",
      "[6.  2.9 4.5 1.5] 1 True\n",
      "[6.8 2.8 4.8 1.4] 1 True\n",
      "[5.4 3.4 1.5 0.4] 0 True\n",
      "[5.6 2.9 3.6 1.3] 1 True\n",
      "[6.9 3.1 5.1 2.3] 2 True\n",
      "[6.2 2.2 4.5 1.5] 1 True\n",
      "[5.8 2.7 3.9 1.2] 1 True\n",
      "[6.5 3.2 5.1 2. ] 2 True\n",
      "[4.8 3.  1.4 0.1] 0 True\n",
      "[5.5 3.5 1.3 0.2] 0 True\n",
      "[4.9 3.1 1.5 0.1] 0 True\n",
      "[5.1 3.8 1.5 0.3] 0 True\n",
      "[6.3 3.3 4.7 1.6] 1 True\n",
      "[6.5 3.  5.8 2.2] 2 True\n",
      "[5.6 2.5 3.9 1.1] 1 True\n",
      "[5.7 2.8 4.5 1.3] 1 True\n",
      "[6.4 2.8 5.6 2.2] 2 True\n",
      "[4.7 3.2 1.6 0.2] 0 True\n",
      "[6.1 3.  4.9 1.8] 2 True\n",
      "[5.  3.4 1.6 0.4] 0 True\n",
      "[6.4 2.8 5.6 2.1] 2 True\n",
      "[7.9 3.8 6.4 2. ] 2 True\n",
      "[6.7 3.  5.2 2.3] 2 True\n",
      "[6.7 2.5 5.8 1.8] 2 True\n",
      "[6.8 3.2 5.9 2.3] 2 True\n",
      "[4.8 3.  1.4 0.3] 0 True\n",
      "[4.8 3.1 1.6 0.2] 0 True\n",
      "error 0.0\n"
     ]
    }
   ],
   "source": [
    "model = mlflow.pyfunc.load_model(f\"models:/dev.lr-iris.ml@champion\")\n",
    "\n",
    "preds = model.predict(X_test)\n",
    "\n",
    "cnt = 0\n",
    "for (i,k,v) in zip(range(0,len(X_test)), X_test, preds):\n",
    "    print(k,v, y_test[i] == preds[i])\n",
    "    if not(y_test[i] == preds[i]):\n",
    "        cnt += 1\n",
    "\n",
    "print(\"error\", cnt/len(X_test))"
   ]
  }
 ],
 "metadata": {
  "kernelspec": {
   "display_name": "mlflow",
   "language": "python",
   "name": "python3"
  },
  "language_info": {
   "codemirror_mode": {
    "name": "ipython",
    "version": 3
   },
   "file_extension": ".py",
   "mimetype": "text/x-python",
   "name": "python",
   "nbconvert_exporter": "python",
   "pygments_lexer": "ipython3",
   "version": "3.12.9"
  }
 },
 "nbformat": 4,
 "nbformat_minor": 2
}
