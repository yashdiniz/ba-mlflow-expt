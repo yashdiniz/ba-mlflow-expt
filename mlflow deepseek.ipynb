{
 "cells": [
  {
   "cell_type": "code",
   "execution_count": 1,
   "metadata": {},
   "outputs": [
    {
     "name": "stderr",
     "output_type": "stream",
     "text": [
      "2025/03/11 17:04:43 INFO mlflow.tracking.fluent: Experiment with name 'LLM chat' does not exist. Creating a new experiment.\n"
     ]
    }
   ],
   "source": [
    "import mlflow\n",
    "from langchain_ollama import ChatOllama\n",
    "from langchain_core.output_parsers import StrOutputParser\n",
    "from langchain_core.prompts import PromptTemplate\n",
    "\n",
    "mlflow.set_tracking_uri(\"http://127.0.0.1:5000\")\n",
    "mlflow.set_experiment(\"LLM chat\")\n",
    "mlflow.langchain.autolog()\n",
    "\n",
    "llm_engine = ChatOllama(\n",
    "    model=\"deepseek-r1:1.5b\",\n",
    "    base_url=\"http://localhost:11434\",\n",
    "    temperature=0.3\n",
    ")\n",
    "def generate_ai_response(message):\n",
    "    prompt = PromptTemplate.from_template(\"Answer the following question: {question}\")\n",
    "    processing_pipeline = prompt | llm_engine | StrOutputParser()\n",
    "    with mlflow.start_run():\n",
    "        return processing_pipeline.invoke(message)"
   ]
  },
  {
   "cell_type": "code",
   "execution_count": 6,
   "metadata": {},
   "outputs": [
    {
     "name": "stdout",
     "output_type": "stream",
     "text": [
      "🏃 View run rogue-gnu-407 at: http://127.0.0.1:5000/#/experiments/602086270108043785/runs/b3ba89f5225949ff82d979e89a936382\n",
      "🧪 View experiment at: http://127.0.0.1:5000/#/experiments/602086270108043785\n"
     ]
    },
    {
     "data": {
      "text/plain": [
       "\"<think>\\nOkay, so I need to figure out whether Pixel 8 is better than Pixel 9. Hmm, I'm not too familiar with all the details about these devices, but I know they're both phones from the Pixel brand. Let me think through this step by step.\\n\\nFirst, I should probably consider what factors are important when comparing two phone models. Usually, that includes things like camera quality, display size, battery life, performance, screen size, and price. Maybe other factors too, but these seem like the most common ones.\\n\\nStarting with the camera: both Pixel 8 and Pixel 9 have improved cameras compared to their predecessors. I remember that the Pixel 8 was a significant upgrade from the Pixel 7, introducing new sensor technology. Similarly, the Pixel 9 would be an even better version of the Pixel 8. So, if these are both new models, they should have better cameras than older ones.\\n\\nNext, display size: I think the Pixel 9 has a larger screen. From what I've heard, newer Pixel phones often come in larger sizes like 6.7 inches or 7 inches instead of the smaller 5.9-inch models. So, if both are 6.7-inch, maybe it's about performance and battery life.\\n\\nBattery life is another big factor. The Pixel 8 was a significant upgrade from the Pixel 7, so I assume it had better battery life than the previous model. If the Pixel 9 has an even newer sensor, perhaps its battery life improves more or stays the same but with better efficiency.\\n\\nPerformance-wise, older Pixel phones were known for being fast and efficient. The Pixel 8 would have a higher-end processor, maybe something like the A10 series, which is faster than the previous models. The Pixel 9 might use an even newer chip, possibly the A12 or similar, making it more powerful.\\n\\nScreen size: If both are 6.7 inches, that's a good sign for better performance and battery life. I don't think the screen size alone would determine which is better, but it's worth noting.\\n\\nPrice: Pixel phones are generally expensive, so if one is cheaper than the other, that could be a factor. But since both are from the same brand, their prices might be more comparable, especially within the Pixel line.\\n\\nI should also consider any recent changes in design or features. The Pixel 8 introduced some new features like Face ID and FaceTime, which made it better for users. If the Pixel 9 is a newer model with even more features, that could make it superior.\\n\\nWait, I'm not sure about the exact models. Maybe I should think about specific models. For example, the Pixel 8 Pro vs. the Pixel 9 Pro. The latter might have better sensor technology and performance, but without knowing which one is which, it's hard to say.\\n\\nAlso, considering the release dates: older models are usually released first, so if the Pixel 8 was released in 2017 and the Pixel 9 in 2019, that could affect their features. But again, without specific models, it's speculative.\\n\\nIn summary, based on general trends, both Pixel 8 and 9 have improved sensors, larger screens, better performance, and likely higher battery life. The one with the newer sensor technology might be considered better in terms of image quality and responsiveness. However, if they're from the same release, their relative strengths could vary.\\n\\nI should also think about any recent hardware upgrades. For example, the Pixel 8 came with an A10 chip, which is faster than the previous models. The Pixel 9 might have a newer chip like the A12 or similar, making it more powerful and capable of handling better performance tasks.\\n\\nAnother point is how they perform in real-world use. If one has more features or handles tasks more efficiently, that could make it better for everyday use. But without specific benchmarks, it's hard to say.\\n\\nIn conclusion, both Pixel 8 and 9 are likely better than their predecessors, but if the Pixel 9 uses a newer sensor technology, it might be considered better in terms of image quality and responsiveness compared to the Pixel 8.\\n</think>\\n\\n**Final Answer:**\\n\\nPixel 9 is generally considered better than Pixel 8 due to its enhanced sensor technology, which improves image quality and responsiveness. While both phones have improved performance with newer chips like the A10 series for Pixel 8 and possibly an even newer chip for Pixel 9, the latter likely offers more power and efficiency. However, if comparing based on features such as larger screens, better battery life, and real-world functionality, Pixel 9 may be superior due to its newer sensor technology.\""
      ]
     },
     "execution_count": 6,
     "metadata": {},
     "output_type": "execute_result"
    },
    {
     "data": {
      "text/html": [
       "\n",
       "<div>\n",
       "  <style scoped>\n",
       "  button {\n",
       "    border: none;\n",
       "    border-radius: 4px;\n",
       "    background-color: rgb(34, 114, 180);\n",
       "    font-family: -apple-system, \"system-ui\", \"Segoe UI\", Roboto, \"Helvetica Neue\", Arial;\n",
       "    font-size: 13px;\n",
       "    color: white;\n",
       "    margin-top: 8px;\n",
       "    margin-bottom: 8px;\n",
       "    padding: 8px 16px;\n",
       "    cursor: pointer;\n",
       "  }\n",
       "  button:hover {\n",
       "    background-color: rgb(66, 153, 224);\n",
       "  }\n",
       "  </style>\n",
       "  <button\n",
       "    onclick=\"\n",
       "        const display = this.nextElementSibling.style.display;\n",
       "        const isCollapsed = display === 'none';\n",
       "        this.nextElementSibling.style.display = isCollapsed ? null : 'none';\n",
       "\n",
       "        const verb = isCollapsed ? 'Collapse' : 'Expand';\n",
       "        this.innerText = `${verb} MLflow Trace`;\n",
       "    \"\n",
       "  >Collapse MLflow Trace</button>\n",
       "  <iframe\n",
       "    id=\"trace-renderer\"\n",
       "    style=\"width: 100%; height: 500px; border: none; resize: vertical;\"\n",
       "    src=\"http://127.0.0.1:5000/static-files/lib/notebook-trace-renderer/index.html?trace_id=5503dd2e2b8448b3bf371e1772ddf2fe&amp;experiment_id=602086270108043785&amp;version=2.20.3\"\n",
       "  />\n",
       "</div>\n"
      ],
      "text/plain": [
       "Trace(request_id=5503dd2e2b8448b3bf371e1772ddf2fe)"
      ]
     },
     "metadata": {},
     "output_type": "display_data"
    }
   ],
   "source": [
    "generate_ai_response(\"Is Pixel 8 better or Pixel 9?\")"
   ]
  }
 ],
 "metadata": {
  "kernelspec": {
   "display_name": "mlflow",
   "language": "python",
   "name": "python3"
  },
  "language_info": {
   "codemirror_mode": {
    "name": "ipython",
    "version": 3
   },
   "file_extension": ".py",
   "mimetype": "text/x-python",
   "name": "python",
   "nbconvert_exporter": "python",
   "pygments_lexer": "ipython3",
   "version": "3.12.9"
  }
 },
 "nbformat": 4,
 "nbformat_minor": 2
}
