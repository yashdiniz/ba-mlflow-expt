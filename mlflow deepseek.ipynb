{
 "cells": [
  {
   "cell_type": "code",
   "execution_count": 1,
   "metadata": {},
   "outputs": [
    {
     "data": {
      "text/plain": [
       "<Experiment: artifact_location='file:C:/Users/yash.diniz/MLFlow/MLartifacts/2', creation_time=1742983752972, experiment_id='2', last_update_time=1742983752972, lifecycle_stage='active', name='LLM chat', tags={}>"
      ]
     },
     "execution_count": 1,
     "metadata": {},
     "output_type": "execute_result"
    }
   ],
   "source": [
    "import mlflow\n",
    "\n",
    "mlflow.set_tracking_uri(\"http://127.0.0.1:5000\")\n",
    "mlflow.set_experiment(\"LLM chat\")"
   ]
  },
  {
   "cell_type": "code",
   "execution_count": 2,
   "metadata": {},
   "outputs": [],
   "source": [
    "from langchain_ollama import ChatOllama\n",
    "from langchain_core.output_parsers import StrOutputParser\n",
    "from langchain_core.prompts import PromptTemplate\n",
    "\n",
    "mlflow.langchain.autolog()\n",
    "\n",
    "llm_engine = ChatOllama(\n",
    "    model=\"deepseek-r1:1.5b\",\n",
    "    base_url=\"http://localhost:11434\",\n",
    "    temperature=0.3\n",
    ")\n",
    "def generate_ai_response(message):\n",
    "    prompt = PromptTemplate.from_template(\"Answer the following question: {question}\")\n",
    "    processing_pipeline = prompt | llm_engine | StrOutputParser()\n",
    "    with mlflow.start_run():\n",
    "        return processing_pipeline.invoke(message)"
   ]
  },
  {
   "cell_type": "code",
   "execution_count": 3,
   "metadata": {},
   "outputs": [
    {
     "name": "stdout",
     "output_type": "stream",
     "text": [
      "🏃 View run bold-tern-505 at: http://127.0.0.1:5000/#/experiments/2/runs/d01e4c9c4c8848e2bea9b0eadcc9737b\n",
      "🧪 View experiment at: http://127.0.0.1:5000/#/experiments/2\n"
     ]
    },
    {
     "data": {
      "text/plain": [
       "'<think>\\nOkay, so I need to help someone socialise in the office. Hmm, where do I start? Well, first off, I guess I should figure out what kind of person they are. Are they introverted or extroverted? Maybe they\\'re looking for a friend or just want to be around others. Also, maybe they have specific interests—like tech, business, or something else.\\n\\nI remember the assistant gave some tips about being genuine and open. That makes sense because socialising in an office is all about connecting with people. So, I should probably start by expressing interest in meeting someone. Maybe mention a time when they\\'ve been looking for friends or just hanging out. It\\'s important to show enthusiasm.\\n\\nNext, maybe suggest specific activities. Like, if they\\'re into tech, ask them what they like to do on the computer. Or if it\\'s about socializing, talk about clubs or events. That way, they can find someone who shares their interests and needs help.\\n\\nI should also be ready for different responses. Some people might not have much interest in socialising, so maybe offer a range of options—like joining a group, attending a meeting, or just hanging out at the office. It\\'s good to be flexible with that.\\n\\nWait, what about being genuine? They don\\'t want to come off as too pushy or awkward. So, I should keep it natural and not try to force connections. Maybe say something like, \"Hey everyone! I\\'ve been looking for a friend for a while now. Do you have any interests or activities that would make you social?\"\\n\\nAlso, maybe suggest meeting up at a specific time or place. That could help them find someone who\\'s available then. Or if they\\'re more introverted, maybe suggest going to the office and letting them know they\\'ll be there when they need help.\\n\\nI wonder if they have any preferences for types of people—like extroverts or intrapreneurs? Maybe offer options based on that. For example, if someone is into business, suggest meeting a professional; if it\\'s about socializing, maybe meet someone who enjoys hanging out with others.\\n\\nOh, and being ready to listen is important too. They should be open to hearing what others have to say and show interest in their opinions. That way, they can find someone who fits their needs without feeling pressured.\\n\\nI think I\\'ve covered the main points. Now, how do I put this into a structured response? Maybe start with an introduction expressing interest, then suggest specific activities or interests, offer flexibility, keep it genuine, and be ready to listen. That should cover all bases for helping someone socialise in the office.\\n</think>\\n\\nCertainly! Here\\'s a structured and organized approach to help someone socialise in the office:\\n\\n1. **Express Interest**: Start by expressing your enthusiasm for meeting others. Mention a specific time or interest you\\'ve been looking for, such as \"I’ve been looking for friends for a while now.\"\\n\\n2. **Suggest Activities**: Offer options based on their interests. For tech enthusiasts, suggest they enjoy gaming or coding; for socializing, recommend clubs or events.\\n\\n3. **Offer Flexibility**: Provide various meeting options—joining a group, attending a meeting, or simply hanging out at the office. This shows you\\'re open to different scenarios.\\n\\n4. **Be Genuine and Open-Minded**: Keep your responses natural and non pushy. Say something like, \"Hey everyone! I’ve been looking for a friend for a while now. Do you have any interests or activities that would make you social?\"\\n\\n5. **Consider Preferences**: Tailor suggestions to their type of person—extroverts might prefer social events; extroverted professionals could suggest business meetings.\\n\\n6. **Be Prepared to Listen**: Show interest in others\\' opinions and listen actively when they share their thoughts, helping them find someone who fits their needs without feeling pressured.\\n\\nBy following these steps, you can effectively guide someone towards finding a friend or connection in the office while maintaining genuine connections.'"
      ]
     },
     "execution_count": 3,
     "metadata": {},
     "output_type": "execute_result"
    },
    {
     "data": {
      "text/html": [
       "\n",
       "<div>\n",
       "  <style scoped>\n",
       "  button {\n",
       "    border: none;\n",
       "    border-radius: 4px;\n",
       "    background-color: rgb(34, 114, 180);\n",
       "    font-family: -apple-system, \"system-ui\", \"Segoe UI\", Roboto, \"Helvetica Neue\", Arial;\n",
       "    font-size: 13px;\n",
       "    color: white;\n",
       "    margin-top: 8px;\n",
       "    margin-bottom: 8px;\n",
       "    padding: 8px 16px;\n",
       "    cursor: pointer;\n",
       "  }\n",
       "  button:hover {\n",
       "    background-color: rgb(66, 153, 224);\n",
       "  }\n",
       "  </style>\n",
       "  <button\n",
       "    onclick=\"\n",
       "        const display = this.nextElementSibling.style.display;\n",
       "        const isCollapsed = display === 'none';\n",
       "        this.nextElementSibling.style.display = isCollapsed ? null : 'none';\n",
       "\n",
       "        const verb = isCollapsed ? 'Collapse' : 'Expand';\n",
       "        this.innerText = `${verb} MLflow Trace`;\n",
       "    \"\n",
       "  >Collapse MLflow Trace</button>\n",
       "  <iframe\n",
       "    id=\"trace-renderer\"\n",
       "    style=\"width: 100%; height: 500px; border: none; resize: vertical;\"\n",
       "    src=\"http://127.0.0.1:5000/static-files/lib/notebook-trace-renderer/index.html?trace_id=68c1618aa24740e2a7d5daad49c4a532&amp;experiment_id=2&amp;version=2.20.3\"\n",
       "  />\n",
       "</div>\n"
      ],
      "text/plain": [
       "Trace(request_id=68c1618aa24740e2a7d5daad49c4a532)"
      ]
     },
     "metadata": {},
     "output_type": "display_data"
    }
   ],
   "source": [
    "generate_ai_response(\"Help me socialise in the office\")"
   ]
  }
 ],
 "metadata": {
  "kernelspec": {
   "display_name": "mlflow",
   "language": "python",
   "name": "python3"
  },
  "language_info": {
   "codemirror_mode": {
    "name": "ipython",
    "version": 3
   },
   "file_extension": ".py",
   "mimetype": "text/x-python",
   "name": "python",
   "nbconvert_exporter": "python",
   "pygments_lexer": "ipython3",
   "version": "3.12.9"
  }
 },
 "nbformat": 4,
 "nbformat_minor": 2
}
