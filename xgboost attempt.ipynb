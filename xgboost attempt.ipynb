{
 "cells": [
  {
   "cell_type": "code",
   "execution_count": 50,
   "metadata": {},
   "outputs": [
    {
     "name": "stdout",
     "output_type": "stream",
     "text": [
      "Training data shape (105, 4) (105,)\n",
      "Sample [6.3 3.3 6.  2.5] 2\n"
     ]
    }
   ],
   "source": [
    "from sklearn.datasets import load_iris\n",
    "from sklearn.model_selection import train_test_split\n",
    "\n",
    "training_dataset = load_iris()\n",
    "X_train, X_test, y_train, y_test = train_test_split(training_dataset['data'], training_dataset['target'], test_size=.3)\n",
    "\n",
    "print(\"Training data shape\", X_train.shape, y_train.shape)\n",
    "print(\"Sample\", X_train[0], y_train[0])"
   ]
  },
  {
   "cell_type": "code",
   "execution_count": 51,
   "metadata": {},
   "outputs": [
    {
     "name": "stderr",
     "output_type": "stream",
     "text": [
      "c:\\Users\\yash.diniz\\miniconda3\\envs\\mlflow\\Lib\\site-packages\\mlflow\\data\\dataset_source_registry.py:149: UserWarning: Failed to determine whether UCVolumeDatasetSource can resolve source information for 'sklearn - iris'. Exception: \n",
      "  return _dataset_source_registry.resolve(\n",
      "c:\\Users\\yash.diniz\\miniconda3\\envs\\mlflow\\Lib\\site-packages\\mlflow\\data\\dataset_source_registry.py:149: UserWarning: The specified dataset source can be interpreted in multiple ways: LocalArtifactDatasetSource, LocalArtifactDatasetSource. MLflow will assume that this is a LocalArtifactDatasetSource source.\n",
      "  return _dataset_source_registry.resolve(\n",
      "c:\\Users\\yash.diniz\\miniconda3\\envs\\mlflow\\Lib\\site-packages\\xgboost\\core.py:158: UserWarning: [16:46:59] WARNING: C:\\buildkite-agent\\builds\\buildkite-windows-cpu-autoscaling-group-i-08cbc0333d8d4aae1-1\\xgboost\\xgboost-ci-windows\\src\\c_api\\c_api.cc:1374: Saving model in the UBJSON format as default.  You can use file extension: `json`, `ubj` or `deprecated` to choose between formats.\n",
      "  warnings.warn(smsg, UserWarning)\n",
      "Successfully registered model 'dev.xgb-iris.ml'.\n",
      "2025/03/14 16:47:10 INFO mlflow.store.model_registry.abstract_store: Waiting up to 300 seconds for model version to finish creation. Model name: dev.xgb-iris.ml, version 1\n",
      "Created version '1' of model 'dev.xgb-iris.ml'.\n"
     ]
    },
    {
     "name": "stdout",
     "output_type": "stream",
     "text": [
      "🏃 View run brawny-wolf-912 at: http://127.0.0.1:5000/#/experiments/610316935615800986/runs/874d456d33954627b24fe6acde9fe46f\n",
      "🧪 View experiment at: http://127.0.0.1:5000/#/experiments/610316935615800986\n"
     ]
    }
   ],
   "source": [
    "from xgboost import XGBClassifier\n",
    "import mlflow.data\n",
    "import mlflow\n",
    "from sklearn.metrics import accuracy_score, f1_score, recall_score\n",
    "from mlflow.models import infer_signature\n",
    "\n",
    "mlflow.set_tracking_uri(\"http://127.0.0.1:5000\")\n",
    "mlflow.set_experiment(\"Iris on XGBoost\")\n",
    "# mlflow.autolog()\n",
    "\n",
    "params = {\n",
    "    'n_estimators': 5, \n",
    "    'max_depth': 50, \n",
    "    'learning_rate': .5, \n",
    "    'objective': 'binary:logistic'\n",
    "}\n",
    "training_dataset = mlflow.data.from_numpy(X_train, 'sklearn - iris', y_train)\n",
    "\n",
    "with mlflow.start_run():\n",
    "    bst = XGBClassifier(**params)\n",
    "    bst.fit(X_train, y_train)\n",
    "    mlflow.log_params(params)\n",
    "    mlflow.set_tag('stage', 'training')\n",
    "    mlflow.log_input(training_dataset, context='Training')\n",
    "\n",
    "    metrics = {\n",
    "        'accuracy': accuracy_score(y_test, bst.predict(X_test)),\n",
    "        'recall': recall_score(y_test, bst.predict(X_test), average='macro'),\n",
    "        'f1': f1_score(y_test, bst.predict(X_test), average='macro'),\n",
    "    }\n",
    "    mlflow.log_metrics(metrics)\n",
    "\n",
    "    mlflow.xgboost.log_model(\n",
    "        xgb_model=bst,\n",
    "        artifact_path=\"iris_model\",\n",
    "        signature=infer_signature(X_train, y_train),\n",
    "        input_example=X_train,\n",
    "        registered_model_name=\"dev.xgb-iris.ml\",\n",
    "    )"
   ]
  },
  {
   "cell_type": "code",
   "execution_count": 52,
   "metadata": {},
   "outputs": [],
   "source": [
    "client = mlflow.MlflowClient()\n",
    "model_info = client.get_registered_model(f'dev.xgb-iris.ml')\n",
    "client.set_registered_model_alias(f'dev.xgb-iris.ml', 'champion', model_info.latest_versions[0].version)\n",
    "\n",
    "# client.delete_registered_model_tag(f'dev.xgb-iris.ml')"
   ]
  },
  {
   "cell_type": "code",
   "execution_count": 53,
   "metadata": {},
   "outputs": [
    {
     "name": "stderr",
     "output_type": "stream",
     "text": [
      "c:\\Users\\yash.diniz\\miniconda3\\envs\\mlflow\\Lib\\site-packages\\mlflow\\data\\dataset_source_registry.py:149: UserWarning: Failed to determine whether UCVolumeDatasetSource can resolve source information for 'sklearn - iris'. Exception: \n",
      "  return _dataset_source_registry.resolve(\n",
      "c:\\Users\\yash.diniz\\miniconda3\\envs\\mlflow\\Lib\\site-packages\\mlflow\\data\\dataset_source_registry.py:149: UserWarning: The specified dataset source can be interpreted in multiple ways: LocalArtifactDatasetSource, LocalArtifactDatasetSource. MLflow will assume that this is a LocalArtifactDatasetSource source.\n",
      "  return _dataset_source_registry.resolve(\n"
     ]
    },
    {
     "name": "stdout",
     "output_type": "stream",
     "text": [
      "[6.5 3.  5.8 2.2] 2 True\n",
      "[6.  2.2 5.  1.5] 1 False\n",
      "[6.8 2.8 4.8 1.4] 1 True\n",
      "[4.8 3.4 1.9 0.2] 0 True\n",
      "[4.6 3.6 1.  0.2] 0 True\n",
      "[6.4 3.1 5.5 1.8] 2 True\n",
      "[6.5 3.2 5.1 2. ] 2 True\n",
      "[5.1 3.3 1.7 0.5] 0 True\n",
      "[4.8 3.  1.4 0.3] 0 True\n",
      "[7.1 3.  5.9 2.1] 2 True\n",
      "[4.6 3.1 1.5 0.2] 0 True\n",
      "[7.2 3.  5.8 1.6] 2 True\n",
      "[5.8 2.7 5.1 1.9] 2 True\n",
      "[5.8 2.7 5.1 1.9] 2 True\n",
      "[5.4 3.4 1.7 0.2] 0 True\n",
      "[6.4 3.2 4.5 1.5] 1 True\n",
      "[4.9 2.4 3.3 1. ] 1 True\n",
      "[5.2 3.5 1.5 0.2] 0 True\n",
      "[6.  2.2 4.  1. ] 1 True\n",
      "[6.7 3.3 5.7 2.5] 2 True\n",
      "[4.9 3.  1.4 0.2] 0 True\n",
      "[6.2 3.4 5.4 2.3] 2 True\n",
      "[6.2 2.9 4.3 1.3] 1 True\n",
      "[5.7 2.5 5.  2. ] 2 True\n",
      "[5.6 2.7 4.2 1.3] 1 True\n",
      "[6.1 2.9 4.7 1.4] 1 True\n",
      "[6.6 3.  4.4 1.4] 1 True\n",
      "[6.  3.  4.8 1.8] 2 True\n",
      "[5.7 2.8 4.5 1.3] 1 True\n",
      "[6.1 3.  4.9 1.8] 2 True\n",
      "[6.2 2.2 4.5 1.5] 1 True\n",
      "[5.  3.6 1.4 0.2] 0 True\n",
      "[6.3 2.5 5.  1.9] 2 True\n",
      "[7.  3.2 4.7 1.4] 1 True\n",
      "[6.4 3.2 5.3 2.3] 2 True\n",
      "[5.9 3.  4.2 1.5] 1 True\n",
      "[5.5 2.6 4.4 1.2] 1 True\n",
      "[6.1 2.8 4.7 1.2] 1 True\n",
      "[5.1 2.5 3.  1.1] 0 False\n",
      "[5.9 3.  5.1 1.8] 2 True\n",
      "[5.7 4.4 1.5 0.4] 0 True\n",
      "[5.  3.4 1.5 0.2] 0 True\n",
      "[7.3 2.9 6.3 1.8] 2 True\n",
      "[5.  3.  1.6 0.2] 0 True\n",
      "[6.3 2.5 4.9 1.5] 1 True\n",
      "error 0.044444444444444446\n",
      "🏃 View run aged-deer-947 at: http://127.0.0.1:5000/#/experiments/610316935615800986/runs/35483720072a4dc9b7a57132b024c5cf\n",
      "🧪 View experiment at: http://127.0.0.1:5000/#/experiments/610316935615800986\n"
     ]
    }
   ],
   "source": [
    "model = mlflow.xgboost.load_model(f\"models:/dev.xgb-iris.ml@champion\")\n",
    "\n",
    "testing_dataset = mlflow.data.from_numpy(X_test, 'sklearn - iris', y_test)\n",
    "\n",
    "with mlflow.start_run():\n",
    "    mlflow.set_tag('stage', 'eval')\n",
    "    preds = model.predict(X_test)\n",
    "    mlflow.log_input(testing_dataset, context='Eval')\n",
    "\n",
    "    cnt = 0\n",
    "    for (i,k,v) in zip(range(0,len(X_test)), X_test, preds):\n",
    "        print(k,v, y_test[i] == preds[i])\n",
    "        if not(y_test[i] == preds[i]):\n",
    "            cnt += 1\n",
    "\n",
    "    print(\"error\", cnt/len(X_test))"
   ]
  }
 ],
 "metadata": {
  "kernelspec": {
   "display_name": "mlflow",
   "language": "python",
   "name": "python3"
  },
  "language_info": {
   "codemirror_mode": {
    "name": "ipython",
    "version": 3
   },
   "file_extension": ".py",
   "mimetype": "text/x-python",
   "name": "python",
   "nbconvert_exporter": "python",
   "pygments_lexer": "ipython3",
   "version": "3.12.9"
  }
 },
 "nbformat": 4,
 "nbformat_minor": 2
}
